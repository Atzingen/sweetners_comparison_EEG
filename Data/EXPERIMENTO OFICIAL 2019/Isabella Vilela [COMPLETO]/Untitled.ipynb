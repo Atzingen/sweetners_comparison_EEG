{
 "cells": [
  {
   "cell_type": "code",
   "execution_count": 63,
   "metadata": {},
   "outputs": [],
   "source": [
    "import pandas as pd\n",
    "import matplotlib. pyplot as plt\n",
    "import numpy as np\n",
    "import os"
   ]
  },
  {
   "cell_type": "code",
   "execution_count": 66,
   "metadata": {},
   "outputs": [
    {
     "data": {
      "text/plain": [
       "'/home/amanda/Documents/Amanda/Quickium/EEG/Dados_experimento/EXPERIMENTO OFICIAL 2019/Isabella Vilela [COMPLETO]'"
      ]
     },
     "execution_count": 66,
     "metadata": {},
     "output_type": "execute_result"
    }
   ],
   "source": [
    "pwd"
   ]
  },
  {
   "cell_type": "code",
   "execution_count": 64,
   "metadata": {},
   "outputs": [
    {
     "data": {
      "text/plain": [
       "['Untitled.ipynb',\n",
       " 'ORIGIN OPJU',\n",
       " 'test.pkl',\n",
       " 'AOK',\n",
       " 'test',\n",
       " '11.11',\n",
       " '12.11',\n",
       " '.ipynb_checkpoints',\n",
       " 'Untitled1.ipynb',\n",
       " 'AGR',\n",
       " '07.11']"
      ]
     },
     "execution_count": 64,
     "metadata": {},
     "output_type": "execute_result"
    }
   ],
   "source": [
    "os.listdir()"
   ]
  },
  {
   "cell_type": "code",
   "execution_count": null,
   "metadata": {},
   "outputs": [],
   "source": [
    "path = \"~/Documents/Amanda/Quickium/EEG/Dados_experimento/\""
   ]
  },
  {
   "cell_type": "code",
   "execution_count": 65,
   "metadata": {},
   "outputs": [
    {
     "ename": "TypeError",
     "evalue": "access() missing required argument 'mode' (pos 2)",
     "output_type": "error",
     "traceback": [
      "\u001b[0;31m---------------------------------------------------------------------------\u001b[0m",
      "\u001b[0;31mTypeError\u001b[0m                                 Traceback (most recent call last)",
      "\u001b[0;32m<ipython-input-65-5df0241f0387>\u001b[0m in \u001b[0;36m<module>\u001b[0;34m\u001b[0m\n\u001b[0;32m----> 1\u001b[0;31m \u001b[0mos\u001b[0m\u001b[0;34m.\u001b[0m\u001b[0maccess\u001b[0m\u001b[0;34m(\u001b[0m\u001b[0;34m\"~/Documents/Amanda/Quickium/EEG/Dados_experimento/\"\u001b[0m\u001b[0;34m)\u001b[0m\u001b[0;34m\u001b[0m\u001b[0;34m\u001b[0m\u001b[0m\n\u001b[0m",
      "\u001b[0;31mTypeError\u001b[0m: access() missing required argument 'mode' (pos 2)"
     ]
    }
   ],
   "source": []
  },
  {
   "cell_type": "code",
   "execution_count": null,
   "metadata": {},
   "outputs": [],
   "source": []
  },
  {
   "cell_type": "code",
   "execution_count": null,
   "metadata": {},
   "outputs": [],
   "source": []
  },
  {
   "cell_type": "markdown",
   "metadata": {},
   "source": [
    "# Dados"
   ]
  },
  {
   "cell_type": "markdown",
   "metadata": {},
   "source": [
    "### Isabella Vilela"
   ]
  },
  {
   "cell_type": "code",
   "execution_count": 3,
   "metadata": {},
   "outputs": [],
   "source": [
    "isabella_aspartame1_07 = pd.read_csv(path + \"EXPERIMENTO OFICIAL 2019/Isabella Vilela [COMPLETO]/07.11/MATLAB/isabella0505_data.txt\")\n",
    "isabella_aspartame2_07 = pd.read_csv(path + \"EXPERIMENTO OFICIAL 2019/Isabella Vilela [COMPLETO]/07.11/MATLAB/isabella3575_data.txt\")\n",
    "isabella_sucralose1_07 = pd.read_csv(path + \"EXPERIMENTO OFICIAL 2019/Isabella Vilela [COMPLETO]/07.11/MATLAB/isabella0834_data.txt\")\n",
    "isabella_sucralose2_07 = pd.read_csv(path + \"EXPERIMENTO OFICIAL 2019/Isabella Vilela [COMPLETO]/07.11/MATLAB/isabella1454_data.txt\")\n",
    "isabella_acucar1_07 = pd.read_csv(path + \"EXPERIMENTO OFICIAL 2019/Isabella Vilela [COMPLETO]/07.11/MATLAB/isabella4449_data.txt\")\n",
    "isabella_acucar2_07 = pd.read_csv(path + \"EXPERIMENTO OFICIAL 2019/Isabella Vilela [COMPLETO]/07.11/MATLAB/isabella2864_data.txt\")"
   ]
  },
  {
   "cell_type": "code",
   "execution_count": 4,
   "metadata": {},
   "outputs": [],
   "source": [
    "Isabella_aspartame1_11 = pd.read_csv(path + \"EXPERIMENTO OFICIAL 2019/Isabella Vilela [COMPLETO]/11.11/MATLAB/isabellavilela2007_data.txt\")\n",
    "Isabella_aspartame2_11 = pd.read_csv(path + \"EXPERIMENTO OFICIAL 2019/Isabella Vilela [COMPLETO]/11.11/MATLAB/isabellavilela1629_data.txt\")\n",
    "Isabella_sucralose1_11 = pd.read_csv(path + \"EXPERIMENTO OFICIAL 2019/Isabella Vilela [COMPLETO]/11.11/MATLAB/isabellavilela2021_data.txt\")\n",
    "Isabella_sucralose2_11 = pd.read_csv(path + \"EXPERIMENTO OFICIAL 2019/Isabella Vilela [COMPLETO]/11.11/MATLAB/isabellavilela0059_data.txt\")\n",
    "Isabella_acucar1_11 = pd.read_csv(path + \"EXPERIMENTO OFICIAL 2019/Isabella Vilela [COMPLETO]/11.11/MATLAB/isabellavilela1887_data.txt\")\n",
    "Isabella_acucar2_11 = pd.read_csv(path + \"EXPERIMENTO OFICIAL 2019/Isabella Vilela [COMPLETO]/11.11/MATLAB/isabellavilela2049_data.txt\")"
   ]
  },
  {
   "cell_type": "code",
   "execution_count": null,
   "metadata": {},
   "outputs": [],
   "source": [
    "Isabella_aspartame1_12 = pd.read_csv(path + \"EXPERIMENTO OFICIAL 2019/Isabella Vilela [COMPLETO]/12.11/MATLAB/isabellavillela8883_data.txt\")\n",
    "Isabella_aspartame2_12 = pd.read_csv(path + \"EXPERIMENTO OFICIAL 2019/Isabella Vilela [COMPLETO]/12.11/MATLAB/isabellavillela7229_data.txt\")\n",
    "Isabella_sucralose1_12 = pd.read_csv(path + \"EXPERIMENTO OFICIAL 2019/Isabella Vilela [COMPLETO]/12.11/MATLAB/isabellavillela6570_data.txt\")\n",
    "Isabella_sucralose2_12 = pd.read_csv(path + \"EXPERIMENTO OFICIAL 2019/Isabella Vilela [COMPLETO]/12.11/MATLAB/isabellavillela6876_data.txt\")\n",
    "Isabella_acucar1_12 = pd.read_csv(path + \"EXPERIMENTO OFICIAL 2019/Isabella Vilela [COMPLETO]/12.11/MATLAB/isabellavillela7171_data.txt\")\n",
    "Isabella_acucar2_12 = pd.read_csv(path + \"EXPERIMENTO OFICIAL 2019/Isabella Vilela [COMPLETO]/12.11/MATLAB/isabellavillela4549_data.txt\")"
   ]
  },
  {
   "cell_type": "markdown",
   "metadata": {},
   "source": [
    "### Lais Sorrilha"
   ]
  },
  {
   "cell_type": "code",
   "execution_count": null,
   "metadata": {},
   "outputs": [],
   "source": [
    "Lais_aspartame1_11 = pd.read_csv(path + \"EXPERIMENTO OFICIAL 2019/Isabella Vilela [COMPLETO]/11.11/MATLAB/isabellavilela2007_data.txt\")\n",
    "Lais_aspartame2_11 = pd.read_csv(path + \"EXPERIMENTO OFICIAL 2019/Isabella Vilela [COMPLETO]/11.11/MATLAB/isabellavilela1629_data.txt\")\n",
    "Lais_acucar1 = \n",
    "Lais_acucar2 =\n",
    "Lais_sucralose1 = \n",
    "Lais_sucralose2 = "
   ]
  },
  {
   "cell_type": "code",
   "execution_count": 37,
   "metadata": {},
   "outputs": [],
   "source": [
    "import pickle"
   ]
  },
  {
   "cell_type": "code",
   "execution_count": 33,
   "metadata": {},
   "outputs": [],
   "source": [
    "Fourier = np.fft.fftn(isabella_aspartame1_07[4:512,1])"
   ]
  },
  {
   "cell_type": "code",
   "execution_count": 36,
   "metadata": {},
   "outputs": [
    {
     "data": {
      "text/plain": [
       "numpy.ndarray"
      ]
     },
     "execution_count": 36,
     "metadata": {},
     "output_type": "execute_result"
    }
   ],
   "source": [
    "Fourier = np.fft.fftn(isabella_aspartame1_07)\n",
    "type(Fourier"
   ]
  },
  {
   "cell_type": "code",
   "execution_count": 44,
   "metadata": {},
   "outputs": [
    {
     "data": {
      "text/plain": [
       "array([[ 0.00000000e+00, -2.10322728e+02, -2.10460060e+02],\n",
       "       [ 1.95300000e-03, -1.94804303e+02, -1.93430991e+02],\n",
       "       [ 3.90600000e-03, -1.59143969e+02, -1.53971160e+02],\n",
       "       ...,\n",
       "       [ 1.99941410e+01,  3.57312886e+02,  3.75898375e+02],\n",
       "       [ 1.99960940e+01,  3.91279469e+02,  4.18883040e+02],\n",
       "       [ 1.99980470e+01,  3.85465782e+02,  4.19798581e+02]])"
      ]
     },
     "execution_count": 44,
     "metadata": {},
     "output_type": "execute_result"
    }
   ],
   "source": [
    "isabella_aspartame1_07"
   ]
  },
  {
   "cell_type": "code",
   "execution_count": 49,
   "metadata": {},
   "outputs": [
    {
     "ename": "NameError",
     "evalue": "name 'ls' is not defined",
     "output_type": "error",
     "traceback": [
      "\u001b[0;31m---------------------------------------------------------------------------\u001b[0m",
      "\u001b[0;31mNameError\u001b[0m                                 Traceback (most recent call last)",
      "\u001b[0;32m<ipython-input-49-f4ce0396ca7e>\u001b[0m in \u001b[0;36m<module>\u001b[0;34m\u001b[0m\n\u001b[1;32m      1\u001b[0m \u001b[0;32mwith\u001b[0m \u001b[0mopen\u001b[0m\u001b[0;34m(\u001b[0m\u001b[0;34m\"test.pkl\"\u001b[0m\u001b[0;34m,\u001b[0m \u001b[0;34m\"wb\"\u001b[0m\u001b[0;34m)\u001b[0m \u001b[0;32mas\u001b[0m \u001b[0mf\u001b[0m\u001b[0;34m:\u001b[0m\u001b[0;34m\u001b[0m\u001b[0;34m\u001b[0m\u001b[0m\n\u001b[1;32m      2\u001b[0m     \u001b[0mpickle\u001b[0m\u001b[0;34m.\u001b[0m\u001b[0mdump\u001b[0m\u001b[0;34m(\u001b[0m\u001b[0;34m[\u001b[0m\u001b[0misabella_aspartame1_07\u001b[0m\u001b[0;34m]\u001b[0m\u001b[0;34m,\u001b[0m \u001b[0mf\u001b[0m\u001b[0;34m)\u001b[0m\u001b[0;34m\u001b[0m\u001b[0;34m\u001b[0m\u001b[0m\n\u001b[0;32m----> 3\u001b[0;31m \u001b[0mls\u001b[0m\u001b[0;34m\u001b[0m\u001b[0;34m\u001b[0m\u001b[0m\n\u001b[0m",
      "\u001b[0;31mNameError\u001b[0m: name 'ls' is not defined"
     ]
    }
   ],
   "source": [
    "with open(\"test.pkl\", \"wb\") as f:\n",
    "    pickle.dump([isabella_aspartame1_07], f)"
   ]
  },
  {
   "cell_type": "code",
   "execution_count": 51,
   "metadata": {},
   "outputs": [
    {
     "data": {
      "text/plain": [
       "'/home/amanda/Documents/Amanda/Quickium/EEG/Dados_experimento/EXPERIMENTO OFICIAL 2019/Isabella Vilela [COMPLETO]'"
      ]
     },
     "execution_count": 51,
     "metadata": {},
     "output_type": "execute_result"
    }
   ],
   "source": [
    "pwd"
   ]
  },
  {
   "cell_type": "code",
   "execution_count": null,
   "metadata": {},
   "outputs": [],
   "source": [
    "a[0]"
   ]
  },
  {
   "cell_type": "code",
   "execution_count": null,
   "metadata": {},
   "outputs": [],
   "source": [
    "# plt.scatter(isabella_aspartame1['Time'], isabella_aspartame1['1'], color='green')\n",
    "# plt.scatter(isabella_sucralose1['Time'], isabella_sucralose1['1'], color='blue')\n",
    "# plt.scatter(isabella_acucar1['Time'], isabella_acucar1['1'], color='red')\n",
    "# plt.scatter(isabella_acucar2['Time'], isabella_acucar2['1'], color='red')\n",
    "# plt.scatter(isabella_sucralose2['Time'], isabella_sucralose2['1'], color='blue')\n",
    "# plt.scatter(isabella_aspartame2['Time'], isabella_aspartame2['1'], color='green')\n",
    "# plt.show()"
   ]
  },
  {
   "cell_type": "code",
   "execution_count": null,
   "metadata": {},
   "outputs": [],
   "source": [
    "# plt.scatter(isabella_aspartame1['Time'], isabella_aspartame1['2'],color='green')\n",
    "# plt.scatter(isabella_sucralose1['Time'], isabella_sucralose1['2'], color='blue')\n",
    "# plt.scatter(isabella_acucar1['Time'], isabella_acucar1['2'], color='red')\n",
    "# plt.scatter(isabella_acucar2['Time'], isabella_acucar2['2'], color='red')\n",
    "# plt.scatter(isabella_sucralose2['Time'], isabella_sucralose2['2'], color='blue')\n",
    "# plt.scatter(isabella_aspartame2['Time'], isabella_aspartame2['2'], color='green')\n",
    "# plt.show()"
   ]
  },
  {
   "cell_type": "code",
   "execution_count": null,
   "metadata": {},
   "outputs": [],
   "source": [
    "# plt.plot(np.array(isabella_aspartame1)[10:1*512,1])\n",
    "# plt.plot(np.array(isabella_aspartame2)[10:1*512,1])\n",
    "# plt.plot(np.array(isabella_acucar1)[10:1*512,1], color = 'red')"
   ]
  },
  {
   "cell_type": "code",
   "execution_count": null,
   "metadata": {},
   "outputs": [],
   "source": [
    "np.array(isabella_acucar1)[:512,1]"
   ]
  },
  {
   "cell_type": "code",
   "execution_count": null,
   "metadata": {},
   "outputs": [],
   "source": []
  }
 ],
 "metadata": {
  "kernelspec": {
   "display_name": "Python 3",
   "language": "python",
   "name": "python3"
  },
  "language_info": {
   "codemirror_mode": {
    "name": "ipython",
    "version": 3
   },
   "file_extension": ".py",
   "mimetype": "text/x-python",
   "name": "python",
   "nbconvert_exporter": "python",
   "pygments_lexer": "ipython3",
   "version": "3.7.4"
  }
 },
 "nbformat": 4,
 "nbformat_minor": 4
}
