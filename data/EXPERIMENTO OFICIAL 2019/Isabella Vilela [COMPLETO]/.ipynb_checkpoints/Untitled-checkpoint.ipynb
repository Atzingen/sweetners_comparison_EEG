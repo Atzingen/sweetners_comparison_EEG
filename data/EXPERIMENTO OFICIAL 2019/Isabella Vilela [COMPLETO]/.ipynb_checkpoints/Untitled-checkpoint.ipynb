{
 "cells": [
  {
   "cell_type": "code",
   "execution_count": 1,
   "metadata": {},
   "outputs": [],
   "source": [
    "import pandas as pd\n",
    "import matplotlib. pyplot as plt\n",
    "import numpy as np"
   ]
  },
  {
   "cell_type": "code",
   "execution_count": 2,
   "metadata": {},
   "outputs": [],
   "source": [
    "path = \"~/Documents/Amanda/Quickium/EEG/Dados_experimento/\""
   ]
  },
  {
   "cell_type": "code",
   "execution_count": 9,
   "metadata": {},
   "outputs": [],
   "source": [
    "import os"
   ]
  },
  {
   "cell_type": "code",
   "execution_count": 10,
   "metadata": {},
   "outputs": [],
   "source": [
    "a = os.listdir()"
   ]
  },
  {
   "cell_type": "code",
   "execution_count": null,
   "metadata": {},
   "outputs": [],
   "source": []
  },
  {
   "cell_type": "code",
   "execution_count": null,
   "metadata": {},
   "outputs": [],
   "source": []
  },
  {
   "cell_type": "code",
   "execution_count": null,
   "metadata": {},
   "outputs": [],
   "source": []
  },
  {
   "cell_type": "code",
   "execution_count": null,
   "metadata": {},
   "outputs": [],
   "source": []
  },
  {
   "cell_type": "markdown",
   "metadata": {},
   "source": [
    "# Dados"
   ]
  },
  {
   "cell_type": "markdown",
   "metadata": {},
   "source": [
    "### Isabella Vilela"
   ]
  },
  {
   "cell_type": "code",
   "execution_count": 3,
   "metadata": {},
   "outputs": [],
   "source": [
    "isabella_aspartame1_07 = pd.read_csv(path + \"EXPERIMENTO OFICIAL 2019/Isabella Vilela [COMPLETO]/07.11/MATLAB/isabella0505_data.txt\")\n",
    "isabella_aspartame2_07 = pd.read_csv(path + \"EXPERIMENTO OFICIAL 2019/Isabella Vilela [COMPLETO]/07.11/MATLAB/isabella3575_data.txt\")\n",
    "isabella_sucralose1_07 = pd.read_csv(path + \"EXPERIMENTO OFICIAL 2019/Isabella Vilela [COMPLETO]/07.11/MATLAB/isabella0834_data.txt\")\n",
    "isabella_sucralose2_07 = pd.read_csv(path + \"EXPERIMENTO OFICIAL 2019/Isabella Vilela [COMPLETO]/07.11/MATLAB/isabella1454_data.txt\")\n",
    "isabella_acucar1_07 = pd.read_csv(path + \"EXPERIMENTO OFICIAL 2019/Isabella Vilela [COMPLETO]/07.11/MATLAB/isabella4449_data.txt\")\n",
    "isabella_acucar2_07 = pd.read_csv(path + \"EXPERIMENTO OFICIAL 2019/Isabella Vilela [COMPLETO]/07.11/MATLAB/isabella2864_data.txt\")"
   ]
  },
  {
   "cell_type": "code",
   "execution_count": 5,
   "metadata": {},
   "outputs": [],
   "source": [
    "Isabella_aspartame1_11 = pd.read_csv(path + \"EXPERIMENTO OFICIAL 2019/Isabella Vilela [COMPLETO]/11.11/MATLAB/isabellavilela2007_data.txt\")\n",
    "Isabella_aspartame2_11 = pd.read_csv(path + \"EXPERIMENTO OFICIAL 2019/Isabella Vilela [COMPLETO]/11.11/MATLAB/isabellavilela1629_data.txt\")\n",
    "Isabella_sucralose1_11 = pd.read_csv(path + \"EXPERIMENTO OFICIAL 2019/Isabella Vilela [COMPLETO]/11.11/MATLAB/isabellavilela2021_data.txt\")\n",
    "Isabella_sucralose2_11 = pd.read_csv(path + \"EXPERIMENTO OFICIAL 2019/Isabella Vilela [COMPLETO]/11.11/MATLAB/isabellavilela0059_data.txt\")\n",
    "Isabella_acucar1_11 = pd.read_csv(path + \"EXPERIMENTO OFICIAL 2019/Isabella Vilela [COMPLETO]/11.11/MATLAB/isabellavilela1887_data.txt\")\n",
    "Isabella_acucar2_11 = pd.read_csv(path + \"EXPERIMENTO OFICIAL 2019/Isabella Vilela [COMPLETO]/11.11/MATLAB/isabellavilela2049_data.txt\")"
   ]
  },
  {
   "cell_type": "code",
   "execution_count": 8,
   "metadata": {},
   "outputs": [],
   "source": [
    "Isabella_aspartame1_12 = pd.read_csv(path + \"EXPERIMENTO OFICIAL 2019/Isabella Vilela [COMPLETO]/12.11/MATLAB/isabellavillela8883_data.txt\")\n",
    "Isabella_aspartame2_12 = pd.read_csv(path + \"EXPERIMENTO OFICIAL 2019/Isabella Vilela [COMPLETO]/12.11/MATLAB/isabellavillela7229_data.txt\")\n",
    "Isabella_sucralose1_12 = pd.read_csv(path + \"EXPERIMENTO OFICIAL 2019/Isabella Vilela [COMPLETO]/12.11/MATLAB/isabellavillela6570_data.txt\")\n",
    "Isabella_sucralose2_12 = pd.read_csv(path + \"EXPERIMENTO OFICIAL 2019/Isabella Vilela [COMPLETO]/12.11/MATLAB/isabellavillela6876_data.txt\")\n",
    "Isabella_acucar1_12 = pd.read_csv(path + \"EXPERIMENTO OFICIAL 2019/Isabella Vilela [COMPLETO]/12.11/MATLAB/isabellavillela7171_data.txt\")\n",
    "Isabella_acucar2_12 = pd.read_csv(path + \"EXPERIMENTO OFICIAL 2019/Isabella Vilela [COMPLETO]/12.11/MATLAB/isabellavillela4549_data.txt\")"
   ]
  },
  {
   "cell_type": "markdown",
   "metadata": {},
   "source": [
    "### Lais Sorrilha"
   ]
  },
  {
   "cell_type": "code",
   "execution_count": 4,
   "metadata": {},
   "outputs": [
    {
     "ename": "SyntaxError",
     "evalue": "invalid syntax (<ipython-input-4-249d17942f04>, line 1)",
     "output_type": "error",
     "traceback": [
      "\u001b[0;36m  File \u001b[0;32m\"<ipython-input-4-249d17942f04>\"\u001b[0;36m, line \u001b[0;32m1\u001b[0m\n\u001b[0;31m    Lais_aspartame1 =\u001b[0m\n\u001b[0m                     ^\u001b[0m\n\u001b[0;31mSyntaxError\u001b[0m\u001b[0;31m:\u001b[0m invalid syntax\n"
     ]
    }
   ],
   "source": [
    "Lais_aspartame1_11 = pd.read_csv(path + \"EXPERIMENTO OFICIAL 2019/Isabella Vilela [COMPLETO]/11.11/MATLAB/isabellavilela2007_data.txt\")\n",
    "Lais_aspartame2_11 = pd.read_csv(path + \"EXPERIMENTO OFICIAL 2019/Isabella Vilela [COMPLETO]/11.11/MATLAB/isabellavilela1629_data.txt\")\n",
    "Lais_acucar1 = \n",
    "Lais_acucar2 =\n",
    "Lais_sucralose1 = \n",
    "Lais_sucralose2 = "
   ]
  },
  {
   "cell_type": "code",
   "execution_count": null,
   "metadata": {},
   "outputs": [],
   "source": []
  },
  {
   "cell_type": "code",
   "execution_count": null,
   "metadata": {},
   "outputs": [],
   "source": []
  },
  {
   "cell_type": "code",
   "execution_count": null,
   "metadata": {},
   "outputs": [],
   "source": []
  },
  {
   "cell_type": "code",
   "execution_count": null,
   "metadata": {},
   "outputs": [],
   "source": []
  },
  {
   "cell_type": "code",
   "execution_count": null,
   "metadata": {},
   "outputs": [],
   "source": []
  },
  {
   "cell_type": "code",
   "execution_count": null,
   "metadata": {},
   "outputs": [],
   "source": []
  },
  {
   "cell_type": "code",
   "execution_count": null,
   "metadata": {},
   "outputs": [],
   "source": [
    "# plt.scatter(isabella_aspartame1['Time'], isabella_aspartame1['1'], color='green')\n",
    "# plt.scatter(isabella_sucralose1['Time'], isabella_sucralose1['1'], color='blue')\n",
    "# plt.scatter(isabella_acucar1['Time'], isabella_acucar1['1'], color='red')\n",
    "# plt.scatter(isabella_acucar2['Time'], isabella_acucar2['1'], color='red')\n",
    "# plt.scatter(isabella_sucralose2['Time'], isabella_sucralose2['1'], color='blue')\n",
    "# plt.scatter(isabella_aspartame2['Time'], isabella_aspartame2['1'], color='green')\n",
    "# plt.show()"
   ]
  },
  {
   "cell_type": "code",
   "execution_count": null,
   "metadata": {},
   "outputs": [],
   "source": [
    "# plt.scatter(isabella_aspartame1['Time'], isabella_aspartame1['2'],color='green')\n",
    "# plt.scatter(isabella_sucralose1['Time'], isabella_sucralose1['2'], color='blue')\n",
    "# plt.scatter(isabella_acucar1['Time'], isabella_acucar1['2'], color='red')\n",
    "# plt.scatter(isabella_acucar2['Time'], isabella_acucar2['2'], color='red')\n",
    "# plt.scatter(isabella_sucralose2['Time'], isabella_sucralose2['2'], color='blue')\n",
    "# plt.scatter(isabella_aspartame2['Time'], isabella_aspartame2['2'], color='green')\n",
    "# plt.show()"
   ]
  },
  {
   "cell_type": "code",
   "execution_count": null,
   "metadata": {},
   "outputs": [],
   "source": [
    "# plt.plot(np.array(isabella_aspartame1)[10:1*512,1])\n",
    "# plt.plot(np.array(isabella_aspartame2)[10:1*512,1])\n",
    "# plt.plot(np.array(isabella_acucar1)[10:1*512,1], color = 'red')"
   ]
  },
  {
   "cell_type": "code",
   "execution_count": null,
   "metadata": {},
   "outputs": [],
   "source": [
    "np.array(isabella_acucar1)[:512,1]"
   ]
  },
  {
   "cell_type": "code",
   "execution_count": null,
   "metadata": {},
   "outputs": [],
   "source": []
  }
 ],
 "metadata": {
  "kernelspec": {
   "display_name": "Python 3",
   "language": "python",
   "name": "python3"
  },
  "language_info": {
   "codemirror_mode": {
    "name": "ipython",
    "version": 3
   },
   "file_extension": ".py",
   "mimetype": "text/x-python",
   "name": "python",
   "nbconvert_exporter": "python",
   "pygments_lexer": "ipython3",
   "version": "3.7.4"
  }
 },
 "nbformat": 4,
 "nbformat_minor": 4
}
